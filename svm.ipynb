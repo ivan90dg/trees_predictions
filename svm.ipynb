{
 "cells": [
  {
   "cell_type": "markdown",
   "metadata": {},
   "source": [
    "### Import libraries"
   ]
  },
  {
   "cell_type": "code",
   "execution_count": 2,
   "metadata": {},
   "outputs": [],
   "source": [
    "import pandas as pd\n",
    "import seaborn as sns\n",
    "import numpy as np\n",
    "import matplotlib.pyplot as plt\n",
    "import matplotlib.lines as mlines\n",
    "import matplotlib.transforms as mtransforms\n",
    "from scipy import stats\n",
    "import copy\n",
    "import random"
   ]
  },
  {
   "cell_type": "code",
   "execution_count": 3,
   "metadata": {},
   "outputs": [],
   "source": [
    "import math\n",
    "import scipy.stats as ss\n",
    "from scipy.stats import mode\n",
    "from collections import Counter"
   ]
  },
  {
   "cell_type": "code",
   "execution_count": 4,
   "metadata": {},
   "outputs": [],
   "source": [
    "from sklearn.preprocessing import StandardScaler, OneHotEncoder, MinMaxScaler\n",
    "from sklearn.compose import ColumnTransformer"
   ]
  },
  {
   "cell_type": "code",
   "execution_count": 5,
   "metadata": {},
   "outputs": [],
   "source": [
    "from sklearn.model_selection import StratifiedShuffleSplit\n",
    "from sklearn import svm\n",
    "from sklearn.calibration import calibration_curve\n",
    "from sklearn.calibration import CalibratedClassifierCV"
   ]
  },
  {
   "cell_type": "code",
   "execution_count": 6,
   "metadata": {},
   "outputs": [],
   "source": [
    "from sklearn.metrics import confusion_matrix\n",
    "from sklearn.metrics import accuracy_score\n",
    "from sklearn.metrics import classification_report\n",
    "from sklearn.metrics import roc_curve\n",
    "from sklearn.metrics import roc_auc_score\n",
    "from sklearn.metrics import plot_confusion_matrix\n",
    "from sklearn.metrics import precision_recall_curve\n",
    "from sklearn.utils import class_weight"
   ]
  },
  {
   "cell_type": "markdown",
   "metadata": {},
   "source": [
    "### Read dataset"
   ]
  },
  {
   "cell_type": "code",
   "execution_count": 7,
   "metadata": {},
   "outputs": [
    {
     "data": {
      "text/html": [
       "<div>\n",
       "<style scoped>\n",
       "    .dataframe tbody tr th:only-of-type {\n",
       "        vertical-align: middle;\n",
       "    }\n",
       "\n",
       "    .dataframe tbody tr th {\n",
       "        vertical-align: top;\n",
       "    }\n",
       "\n",
       "    .dataframe thead th {\n",
       "        text-align: right;\n",
       "    }\n",
       "</style>\n",
       "<table border=\"1\" class=\"dataframe\">\n",
       "  <thead>\n",
       "    <tr style=\"text-align: right;\">\n",
       "      <th></th>\n",
       "      <th>Elevation</th>\n",
       "      <th>Aspect</th>\n",
       "      <th>Slope</th>\n",
       "      <th>Horizontal_Distance_To_Hydrology</th>\n",
       "      <th>Vertical_Distance_To_Hydrology</th>\n",
       "      <th>Horizontal_Distance_To_Roadways</th>\n",
       "      <th>Hillshade_9am</th>\n",
       "      <th>Hillshade_Noon</th>\n",
       "      <th>Hillshade_3pm</th>\n",
       "      <th>Horizontal_Distance_To_Fire_Points</th>\n",
       "      <th>...</th>\n",
       "      <th>Soil_Type32</th>\n",
       "      <th>Soil_Type33</th>\n",
       "      <th>Soil_Type34</th>\n",
       "      <th>Soil_Type35</th>\n",
       "      <th>Soil_Type36</th>\n",
       "      <th>Soil_Type37</th>\n",
       "      <th>Soil_Type38</th>\n",
       "      <th>Soil_Type39</th>\n",
       "      <th>Soil_Type40</th>\n",
       "      <th>Cover_Type</th>\n",
       "    </tr>\n",
       "  </thead>\n",
       "  <tbody>\n",
       "    <tr>\n",
       "      <th>0</th>\n",
       "      <td>2596</td>\n",
       "      <td>51</td>\n",
       "      <td>3</td>\n",
       "      <td>258</td>\n",
       "      <td>0</td>\n",
       "      <td>510</td>\n",
       "      <td>221</td>\n",
       "      <td>232</td>\n",
       "      <td>148</td>\n",
       "      <td>6279</td>\n",
       "      <td>...</td>\n",
       "      <td>0</td>\n",
       "      <td>0</td>\n",
       "      <td>0</td>\n",
       "      <td>0</td>\n",
       "      <td>0</td>\n",
       "      <td>0</td>\n",
       "      <td>0</td>\n",
       "      <td>0</td>\n",
       "      <td>0</td>\n",
       "      <td>5</td>\n",
       "    </tr>\n",
       "    <tr>\n",
       "      <th>1</th>\n",
       "      <td>2590</td>\n",
       "      <td>56</td>\n",
       "      <td>2</td>\n",
       "      <td>212</td>\n",
       "      <td>-6</td>\n",
       "      <td>390</td>\n",
       "      <td>220</td>\n",
       "      <td>235</td>\n",
       "      <td>151</td>\n",
       "      <td>6225</td>\n",
       "      <td>...</td>\n",
       "      <td>0</td>\n",
       "      <td>0</td>\n",
       "      <td>0</td>\n",
       "      <td>0</td>\n",
       "      <td>0</td>\n",
       "      <td>0</td>\n",
       "      <td>0</td>\n",
       "      <td>0</td>\n",
       "      <td>0</td>\n",
       "      <td>5</td>\n",
       "    </tr>\n",
       "    <tr>\n",
       "      <th>2</th>\n",
       "      <td>2804</td>\n",
       "      <td>139</td>\n",
       "      <td>9</td>\n",
       "      <td>268</td>\n",
       "      <td>65</td>\n",
       "      <td>3180</td>\n",
       "      <td>234</td>\n",
       "      <td>238</td>\n",
       "      <td>135</td>\n",
       "      <td>6121</td>\n",
       "      <td>...</td>\n",
       "      <td>0</td>\n",
       "      <td>0</td>\n",
       "      <td>0</td>\n",
       "      <td>0</td>\n",
       "      <td>0</td>\n",
       "      <td>0</td>\n",
       "      <td>0</td>\n",
       "      <td>0</td>\n",
       "      <td>0</td>\n",
       "      <td>2</td>\n",
       "    </tr>\n",
       "    <tr>\n",
       "      <th>3</th>\n",
       "      <td>2785</td>\n",
       "      <td>155</td>\n",
       "      <td>18</td>\n",
       "      <td>242</td>\n",
       "      <td>118</td>\n",
       "      <td>3090</td>\n",
       "      <td>238</td>\n",
       "      <td>238</td>\n",
       "      <td>122</td>\n",
       "      <td>6211</td>\n",
       "      <td>...</td>\n",
       "      <td>0</td>\n",
       "      <td>0</td>\n",
       "      <td>0</td>\n",
       "      <td>0</td>\n",
       "      <td>0</td>\n",
       "      <td>0</td>\n",
       "      <td>0</td>\n",
       "      <td>0</td>\n",
       "      <td>0</td>\n",
       "      <td>2</td>\n",
       "    </tr>\n",
       "    <tr>\n",
       "      <th>4</th>\n",
       "      <td>2595</td>\n",
       "      <td>45</td>\n",
       "      <td>2</td>\n",
       "      <td>153</td>\n",
       "      <td>-1</td>\n",
       "      <td>391</td>\n",
       "      <td>220</td>\n",
       "      <td>234</td>\n",
       "      <td>150</td>\n",
       "      <td>6172</td>\n",
       "      <td>...</td>\n",
       "      <td>0</td>\n",
       "      <td>0</td>\n",
       "      <td>0</td>\n",
       "      <td>0</td>\n",
       "      <td>0</td>\n",
       "      <td>0</td>\n",
       "      <td>0</td>\n",
       "      <td>0</td>\n",
       "      <td>0</td>\n",
       "      <td>5</td>\n",
       "    </tr>\n",
       "  </tbody>\n",
       "</table>\n",
       "<p>5 rows × 55 columns</p>\n",
       "</div>"
      ],
      "text/plain": [
       "   Elevation  Aspect  Slope  Horizontal_Distance_To_Hydrology  \\\n",
       "0       2596      51      3                               258   \n",
       "1       2590      56      2                               212   \n",
       "2       2804     139      9                               268   \n",
       "3       2785     155     18                               242   \n",
       "4       2595      45      2                               153   \n",
       "\n",
       "   Vertical_Distance_To_Hydrology  Horizontal_Distance_To_Roadways  \\\n",
       "0                               0                              510   \n",
       "1                              -6                              390   \n",
       "2                              65                             3180   \n",
       "3                             118                             3090   \n",
       "4                              -1                              391   \n",
       "\n",
       "   Hillshade_9am  Hillshade_Noon  Hillshade_3pm  \\\n",
       "0            221             232            148   \n",
       "1            220             235            151   \n",
       "2            234             238            135   \n",
       "3            238             238            122   \n",
       "4            220             234            150   \n",
       "\n",
       "   Horizontal_Distance_To_Fire_Points  ...  Soil_Type32  Soil_Type33  \\\n",
       "0                                6279  ...            0            0   \n",
       "1                                6225  ...            0            0   \n",
       "2                                6121  ...            0            0   \n",
       "3                                6211  ...            0            0   \n",
       "4                                6172  ...            0            0   \n",
       "\n",
       "   Soil_Type34  Soil_Type35  Soil_Type36  Soil_Type37  Soil_Type38  \\\n",
       "0            0            0            0            0            0   \n",
       "1            0            0            0            0            0   \n",
       "2            0            0            0            0            0   \n",
       "3            0            0            0            0            0   \n",
       "4            0            0            0            0            0   \n",
       "\n",
       "   Soil_Type39  Soil_Type40  Cover_Type  \n",
       "0            0            0           5  \n",
       "1            0            0           5  \n",
       "2            0            0           2  \n",
       "3            0            0           2  \n",
       "4            0            0           5  \n",
       "\n",
       "[5 rows x 55 columns]"
      ]
     },
     "execution_count": 7,
     "metadata": {},
     "output_type": "execute_result"
    }
   ],
   "source": [
    "df = pd.read_csv('covtype.csv')\n",
    "df.head()"
   ]
  },
  {
   "cell_type": "markdown",
   "metadata": {},
   "source": [
    "### Split data an preprocessing"
   ]
  },
  {
   "cell_type": "code",
   "execution_count": 8,
   "metadata": {
    "scrolled": true
   },
   "outputs": [
    {
     "data": {
      "text/plain": [
       "Index(['Elevation', 'Aspect', 'Slope', 'Horizontal_Distance_To_Hydrology',\n",
       "       'Vertical_Distance_To_Hydrology', 'Horizontal_Distance_To_Roadways',\n",
       "       'Hillshade_9am', 'Hillshade_Noon', 'Hillshade_3pm',\n",
       "       'Horizontal_Distance_To_Fire_Points', 'Wilderness_Area1',\n",
       "       'Wilderness_Area2', 'Wilderness_Area3', 'Wilderness_Area4',\n",
       "       'Soil_Type1', 'Soil_Type2', 'Soil_Type3', 'Soil_Type4', 'Soil_Type5',\n",
       "       'Soil_Type6', 'Soil_Type7', 'Soil_Type8', 'Soil_Type9', 'Soil_Type10',\n",
       "       'Soil_Type11', 'Soil_Type12', 'Soil_Type13', 'Soil_Type14',\n",
       "       'Soil_Type15', 'Soil_Type16', 'Soil_Type17', 'Soil_Type18',\n",
       "       'Soil_Type19', 'Soil_Type20', 'Soil_Type21', 'Soil_Type22',\n",
       "       'Soil_Type23', 'Soil_Type24', 'Soil_Type25', 'Soil_Type26',\n",
       "       'Soil_Type27', 'Soil_Type28', 'Soil_Type29', 'Soil_Type30',\n",
       "       'Soil_Type31', 'Soil_Type32', 'Soil_Type33', 'Soil_Type34',\n",
       "       'Soil_Type35', 'Soil_Type36', 'Soil_Type37', 'Soil_Type38',\n",
       "       'Soil_Type39', 'Soil_Type40', 'Cover_Type'],\n",
       "      dtype='object')"
      ]
     },
     "execution_count": 8,
     "metadata": {},
     "output_type": "execute_result"
    }
   ],
   "source": [
    "df.columns"
   ]
  },
  {
   "cell_type": "code",
   "execution_count": 9,
   "metadata": {},
   "outputs": [
    {
     "name": "stdout",
     "output_type": "stream",
     "text": [
      "211840 283301 35754 2747 9493 17367 20510\n"
     ]
    }
   ],
   "source": [
    "class_1_df = df[df['Cover_Type']==1]\n",
    "class_2_df = df[df['Cover_Type']==2]\n",
    "class_3_df = df[df['Cover_Type']==3]\n",
    "class_4_df = df[df['Cover_Type']==4]\n",
    "class_5_df = df[df['Cover_Type']==5]\n",
    "class_6_df = df[df['Cover_Type']==6]\n",
    "class_7_df = df[df['Cover_Type']==7]\n",
    "print(len(class_1_df),len(class_2_df),len(class_3_df),len(class_4_df),len(class_5_df),len(class_6_df),len(class_7_df))"
   ]
  },
  {
   "cell_type": "code",
   "execution_count": 10,
   "metadata": {},
   "outputs": [
    {
     "data": {
      "text/plain": [
       "549.4"
      ]
     },
     "execution_count": 10,
     "metadata": {},
     "output_type": "execute_result"
    }
   ],
   "source": [
    "2747*0.2"
   ]
  },
  {
   "cell_type": "code",
   "execution_count": 11,
   "metadata": {},
   "outputs": [
    {
     "name": "stdout",
     "output_type": "stream",
     "text": [
      "3500\n"
     ]
    }
   ],
   "source": [
    "test_class_1_df = df[df['Cover_Type']==1].sample(500)\n",
    "test_class_2_df = df[df['Cover_Type']==2].sample(500)\n",
    "test_class_3_df = df[df['Cover_Type']==3].sample(500)\n",
    "test_class_4_df = df[df['Cover_Type']==4].sample(500)\n",
    "test_class_5_df = df[df['Cover_Type']==5].sample(500)\n",
    "test_class_6_df = df[df['Cover_Type']==6].sample(500)\n",
    "test_class_7_df = df[df['Cover_Type']==7].sample(500)\n",
    "test_df = pd.concat([test_class_1_df,\n",
    "                     test_class_2_df,\n",
    "                     test_class_3_df,\n",
    "                     test_class_4_df,\n",
    "                     test_class_5_df,\n",
    "                     test_class_6_df,\n",
    "                     test_class_7_df])\n",
    "print(len(test_df))"
   ]
  },
  {
   "cell_type": "code",
   "execution_count": 12,
   "metadata": {},
   "outputs": [
    {
     "name": "stdout",
     "output_type": "stream",
     "text": [
      "577512\n"
     ]
    }
   ],
   "source": [
    "train_class_1_df = class_1_df.drop(test_class_1_df.index)\n",
    "train_class_2_df = class_2_df.drop(test_class_2_df.index)\n",
    "train_class_3_df = class_3_df.drop(test_class_3_df.index)\n",
    "train_class_4_df = class_4_df.drop(test_class_4_df.index)\n",
    "train_class_5_df = class_5_df.drop(test_class_5_df.index)\n",
    "train_class_6_df = class_6_df.drop(test_class_6_df.index)\n",
    "train_class_7_df = class_7_df.drop(test_class_7_df.index)\n",
    "train_df = pd.concat([train_class_1_df,\n",
    "                     train_class_2_df,\n",
    "                     train_class_3_df,\n",
    "                     train_class_4_df,\n",
    "                     train_class_5_df,\n",
    "                     train_class_6_df,\n",
    "                     train_class_7_df])\n",
    "print(len(train_df))"
   ]
  },
  {
   "cell_type": "code",
   "execution_count": 13,
   "metadata": {},
   "outputs": [],
   "source": [
    "data = pd.concat([train_df,test_df])"
   ]
  },
  {
   "cell_type": "code",
   "execution_count": 14,
   "metadata": {},
   "outputs": [],
   "source": [
    "preprocessor = ColumnTransformer(\n",
    "    transformers=[\n",
    "        ('num', StandardScaler(),['Elevation', 'Slope', 'Horizontal_Distance_To_Hydrology',\n",
    "       'Vertical_Distance_To_Hydrology', 'Horizontal_Distance_To_Roadways',\n",
    "       'Hillshade_9am', 'Hillshade_Noon',\n",
    "       'Horizontal_Distance_To_Fire_Points','Wilderness_Area1',\n",
    "       'Wilderness_Area2', 'Wilderness_Area3', 'Wilderness_Area4',\n",
    "       'Soil_Type1', 'Soil_Type2', 'Soil_Type3', 'Soil_Type4', 'Soil_Type5',\n",
    "       'Soil_Type6', 'Soil_Type7', 'Soil_Type8', 'Soil_Type9', 'Soil_Type10',\n",
    "       'Soil_Type11', 'Soil_Type12', 'Soil_Type13', 'Soil_Type14',\n",
    "       'Soil_Type15', 'Soil_Type16', 'Soil_Type17', 'Soil_Type18',\n",
    "       'Soil_Type19', 'Soil_Type20', 'Soil_Type21', 'Soil_Type22',\n",
    "       'Soil_Type23', 'Soil_Type24', 'Soil_Type25', 'Soil_Type26',\n",
    "       'Soil_Type27', 'Soil_Type28', 'Soil_Type29', 'Soil_Type30',\n",
    "       'Soil_Type31', 'Soil_Type32', 'Soil_Type33', 'Soil_Type34',\n",
    "       'Soil_Type35', 'Soil_Type36', 'Soil_Type37', 'Soil_Type38',\n",
    "       'Soil_Type39', 'Soil_Type40'])\n",
    "    ]\n",
    ")\n",
    "\n",
    "data_preprocessed = preprocessor.fit_transform(data)\n",
    "labels = np.array(data['Cover_Type'])"
   ]
  },
  {
   "cell_type": "code",
   "execution_count": 15,
   "metadata": {},
   "outputs": [
    {
     "data": {
      "text/plain": [
       "array([-9.29927574e-01, -1.48281978e+00, -1.26760417e+00, -7.96272594e-01,\n",
       "       -1.62992488e-01,  3.18997259e-02,  5.40313446e-01,  3.67975426e+00,\n",
       "        1.10807983e+00, -2.32859052e-01, -8.79364021e-01, -2.60672949e-01,\n",
       "       -7.24162759e-02, -1.14549042e-01, -9.14905313e-02, -1.47649250e-01,\n",
       "       -5.24997930e-02, -1.06985932e-01, -1.34443975e-02, -1.75550016e-02,\n",
       "       -4.44752360e-02, -2.43946810e-01, -1.47734423e-01, -2.33216171e-01,\n",
       "       -1.75866443e-01, -3.21251264e-02, -2.27231846e-03, -7.01478695e-02,\n",
       "       -7.69715390e-02, -5.72638872e-02, -8.34800147e-02,  7.85818383e+00,\n",
       "       -3.80051874e-02, -2.46859838e-01, -3.32219214e-01, -1.94973038e-01,\n",
       "       -2.85741845e-02, -6.69026389e-02, -4.32741576e-02, -4.03837703e-02,\n",
       "       -4.97429330e-01, -2.34031401e-01, -2.14979610e-01, -3.15238030e-01,\n",
       "       -2.90284104e-01, -5.27300460e-02, -5.71427461e-02, -1.43128266e-02,\n",
       "       -2.26530657e-02, -1.65956116e-01, -1.56013984e-01, -1.23653545e-01])"
      ]
     },
     "execution_count": 15,
     "metadata": {},
     "output_type": "execute_result"
    }
   ],
   "source": [
    "data_preprocessed[0]"
   ]
  },
  {
   "cell_type": "code",
   "execution_count": 16,
   "metadata": {},
   "outputs": [
    {
     "data": {
      "text/plain": [
       "(581012, 52)"
      ]
     },
     "execution_count": 16,
     "metadata": {},
     "output_type": "execute_result"
    }
   ],
   "source": [
    "data_preprocessed.shape"
   ]
  },
  {
   "cell_type": "code",
   "execution_count": 17,
   "metadata": {},
   "outputs": [],
   "source": [
    "X_train = data_preprocessed[:577512,:]\n",
    "y_train = labels[:577512]\n",
    "X_test = data_preprocessed[577512:,:]\n",
    "y_test = labels[577512:]"
   ]
  },
  {
   "cell_type": "code",
   "execution_count": 18,
   "metadata": {},
   "outputs": [
    {
     "name": "stdout",
     "output_type": "stream",
     "text": [
      "(577512, 52)\n",
      "(577512,)\n",
      "(3500, 52)\n",
      "(3500,)\n"
     ]
    }
   ],
   "source": [
    "print(X_train.shape)\n",
    "print(y_train.shape)\n",
    "print(X_test.shape)\n",
    "print(y_test.shape)"
   ]
  },
  {
   "cell_type": "markdown",
   "metadata": {},
   "source": [
    "### Train model"
   ]
  },
  {
   "cell_type": "code",
   "execution_count": 19,
   "metadata": {},
   "outputs": [],
   "source": [
    "params = {\n",
    "    \"model_name\": \"xgboost\",\n",
    "    \"early_stopping_rounds\": 100,\n",
    "    \"eval_metric\": [\"merror\", \"mlogloss\"],\n",
    "    \"hyperparams\": {\n",
    "        \"penalty\": \"l2\",\n",
    "        \"loss\": \"squared_hinge\",\n",
    "        \"dual\": False,\n",
    "        \"tol\": 0.0001,\n",
    "        \"C\": 2.0,\n",
    "        \"multi_class\": \"ovr\",\n",
    "        \"fit_intercept\": True,\n",
    "        \"intercept_scaling\": 1,\n",
    "        \"class_weight\": \"balanced\",\n",
    "        \"verbose\": 1,\n",
    "        \"random_state\": None,\n",
    "        \"max_iter\": 5000\n",
    "    }\n",
    "}"
   ]
  },
  {
   "cell_type": "code",
   "execution_count": 20,
   "metadata": {},
   "outputs": [
    {
     "data": {
      "text/plain": [
       "LinearSVC(C=2.0, class_weight='balanced', dual=False, max_iter=5000, verbose=1)"
      ]
     },
     "execution_count": 20,
     "metadata": {},
     "output_type": "execute_result"
    }
   ],
   "source": [
    "model = svm.LinearSVC()\n",
    "model.set_params(**params['hyperparams'])"
   ]
  },
  {
   "cell_type": "code",
   "execution_count": 22,
   "metadata": {},
   "outputs": [
    {
     "name": "stdout",
     "output_type": "stream",
     "text": [
      "[LibLinear]train_accuracy for iteration  1 :  0.6814781649342746\n",
      "val_accuracy for iteration  1 :  0.6807173283156521\n",
      "[LibLinear]train_accuracy for iteration  2 :  0.6811590617872745\n",
      "val_accuracy for iteration  2 :  0.6816696872799474\n",
      "[LibLinear]train_accuracy for iteration  3 :  0.6818071627524996\n",
      "val_accuracy for iteration  3 :  0.682650905606797\n",
      "[LibLinear]train_accuracy for iteration  4 :  0.6811293777736\n",
      "val_accuracy for iteration  4 :  0.6831126554076673\n",
      "[LibLinear]train_accuracy for iteration  5 :  0.6822326336151665\n",
      "val_accuracy for iteration  5 :  0.6787318041719095\n",
      "[LibLinear]train_accuracy for iteration  6 :  0.6811615354550806\n",
      "val_accuracy for iteration  6 :  0.6796033569210523\n",
      "[LibLinear]train_accuracy for iteration  7 :  0.6826778938202831\n",
      "val_accuracy for iteration  7 :  0.6809251157260439\n",
      "[LibLinear]train_accuracy for iteration  8 :  0.6809314843491038\n",
      "val_accuracy for iteration  8 :  0.6802151754072056\n",
      "[LibLinear]train_accuracy for iteration  9 :  0.6811739037941117\n",
      "val_accuracy for iteration  9 :  0.6812367968416314\n",
      "[LibLinear]train_accuracy for iteration  10 :  0.6816265850026468\n",
      "val_accuracy for iteration  10 :  0.6805730315028802\n",
      "Train accuracy:  0.6810977466249634\n",
      "Validation accuracy:  0.681414374533611\n"
     ]
    }
   ],
   "source": [
    "splits = 10\n",
    "cv = StratifiedShuffleSplit(n_splits=splits, test_size=0.3, random_state=42)\n",
    "accuracy = np.zeros((splits,2))\n",
    "\n",
    "count = 0\n",
    "for train, val in cv.split(X_train, y_train):\n",
    "    train_features = X_train[train]\n",
    "    train_labels = y_train[train]\n",
    "    validation_features = X_train[val]\n",
    "    validation_labels = y_train[val]\n",
    "    \n",
    "    model = model.fit(X_train[train], y_train[train])\n",
    "    \n",
    "    train_model_prediction = model.predict(train_features)\n",
    "    train_predictions = [round(value) for value in train_model_prediction]\n",
    "    train_accuracy = accuracy_score(train_labels, train_predictions)\n",
    "    print('train_accuracy for iteration ', count+1, ': ', train_accuracy)\n",
    "    \n",
    "    val_model_prediction = model.predict(validation_features)\n",
    "    val_predictions = [round(value) for value in val_model_prediction]\n",
    "    val_accuracy = accuracy_score(validation_labels, val_predictions)\n",
    "    print('val_accuracy for iteration ', count+1, ': ', val_accuracy)\n",
    "\n",
    "    accuracy[count] = [train_accuracy, val_accuracy]\n",
    "    count += 1\n",
    "\n",
    "print('Train accuracy: ', np.mean(accuracy[0,:]))\n",
    "print('Validation accuracy: ', np.mean(accuracy[1,:]))"
   ]
  },
  {
   "cell_type": "code",
   "execution_count": 25,
   "metadata": {},
   "outputs": [
    {
     "name": "stdout",
     "output_type": "stream",
     "text": [
      "              precision    recall  f1-score   support\n",
      "\n",
      "           1       0.70      0.67      0.68    211340\n",
      "           2       0.78      0.70      0.74    282801\n",
      "           3       0.63      0.70      0.66     35254\n",
      "           4       0.33      0.59      0.42      2247\n",
      "           5       0.20      0.34      0.25      8993\n",
      "           6       0.31      0.47      0.37     16867\n",
      "           7       0.47      0.82      0.60     20010\n",
      "\n",
      "    accuracy                           0.68    577512\n",
      "   macro avg       0.49      0.61      0.53    577512\n",
      "weighted avg       0.70      0.68      0.69    577512\n",
      "\n",
      "Accuracy:  0.6813105182229979\n"
     ]
    },
    {
     "data": {
      "image/png": "[encoded data removed]",
      "text/plain": [
       "<Figure size 432x288 with 2 Axes>"
      ]
     },
     "metadata": {
      "needs_background": "light"
     },
     "output_type": "display_data"
    }
   ],
   "source": [
    "# evaluacija na trening setu\n",
    "train_model_prediction = model.predict(X_train)\n",
    "train_predictions = [round(value) for value in train_model_prediction]\n",
    "\n",
    "accuracy = accuracy_score(y_train, train_predictions)\n",
    "report = classification_report(y_train, train_predictions)\n",
    "print(report)\n",
    "print('Accuracy: ', accuracy)\n",
    "\n",
    "fig, ax = plt.subplots()\n",
    "plt.title('svm')\n",
    "plot_confusion_matrix(model, X_train, y_train, ax=ax)\n",
    "plt.show()"
   ]
  },
  {
   "cell_type": "code",
   "execution_count": 26,
   "metadata": {},
   "outputs": [
    {
     "name": "stdout",
     "output_type": "stream",
     "text": [
      "              precision    recall  f1-score   support\n",
      "\n",
      "           1       0.62      0.65      0.63       500\n",
      "           2       0.42      0.69      0.52       500\n",
      "           3       0.47      0.71      0.57       500\n",
      "           4       0.86      0.55      0.67       500\n",
      "           5       0.79      0.34      0.48       500\n",
      "           6       0.54      0.45      0.49       500\n",
      "           7       0.90      0.82      0.86       500\n",
      "\n",
      "    accuracy                           0.60      3500\n",
      "   macro avg       0.66      0.60      0.60      3500\n",
      "weighted avg       0.66      0.60      0.60      3500\n",
      "\n",
      "Accuracy:  0.6017142857142858\n"
     ]
    },
    {
     "data": {
      "image/png": "[encoded data removed]",
      "text/plain": [
       "<Figure size 432x288 with 2 Axes>"
      ]
     },
     "metadata": {
      "needs_background": "light"
     },
     "output_type": "display_data"
    }
   ],
   "source": [
    "# evaluacija na test setu\n",
    "test_model_prediction = model.predict(X_test)\n",
    "test_predictions = [round(value) for value in test_model_prediction]\n",
    "\n",
    "accuracy = accuracy_score(y_test, test_predictions)\n",
    "report = classification_report(y_test, test_predictions)\n",
    "print(report)\n",
    "print('Accuracy: ', accuracy)\n",
    "\n",
    "fig, ax = plt.subplots()\n",
    "plt.title('svm')\n",
    "plot_confusion_matrix(model, X_test, y_test, ax=ax)\n",
    "plt.show()"
   ]
  },
  {
   "cell_type": "code",
   "execution_count": null,
   "metadata": {},
   "outputs": [],
   "source": []
  },
  {
   "cell_type": "code",
   "execution_count": null,
   "metadata": {},
   "outputs": [],
   "source": []
  }
 ],
 "metadata": {
  "kernelspec": {
   "display_name": "Python 3",
   "language": "python",
   "name": "python3"
  },
  "language_info": {
   "codemirror_mode": {
    "name": "ipython",
    "version": 3
   },
   "file_extension": ".py",
   "mimetype": "text/x-python",
   "name": "python",
   "nbconvert_exporter": "python",
   "pygments_lexer": "ipython3",
   "version": "3.8.5"
  }
 },
 "nbformat": 4,
 "nbformat_minor": 4
}
