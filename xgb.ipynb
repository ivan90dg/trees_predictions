{
 "cells": [
  {
   "cell_type": "markdown",
   "metadata": {},
   "source": [
    "### Import libraries"
   ]
  },
  {
   "cell_type": "code",
   "execution_count": 1,
   "metadata": {},
   "outputs": [],
   "source": [
    "import pandas as pd\n",
    "import seaborn as sns\n",
    "import numpy as np\n",
    "import matplotlib.pyplot as plt\n",
    "import matplotlib.lines as mlines\n",
    "import matplotlib.transforms as mtransforms\n",
    "from scipy import stats\n",
    "import copy\n",
    "import random"
   ]
  },
  {
   "cell_type": "code",
   "execution_count": 2,
   "metadata": {},
   "outputs": [],
   "source": [
    "import math\n",
    "import scipy.stats as ss\n",
    "from scipy.stats import mode\n",
    "from collections import Counter"
   ]
  },
  {
   "cell_type": "code",
   "execution_count": 3,
   "metadata": {},
   "outputs": [],
   "source": [
    "from sklearn.preprocessing import StandardScaler, OneHotEncoder, MinMaxScaler\n",
    "from sklearn.compose import ColumnTransformer"
   ]
  },
  {
   "cell_type": "code",
   "execution_count": 5,
   "metadata": {},
   "outputs": [],
   "source": [
    "from sklearn.model_selection import StratifiedShuffleSplit\n",
    "from xgboost import XGBClassifier\n",
    "from sklearn.calibration import calibration_curve\n",
    "from sklearn.calibration import CalibratedClassifierCV"
   ]
  },
  {
   "cell_type": "code",
   "execution_count": 6,
   "metadata": {},
   "outputs": [],
   "source": [
    "from sklearn.metrics import confusion_matrix\n",
    "from sklearn.metrics import accuracy_score\n",
    "from sklearn.metrics import classification_report\n",
    "from sklearn.metrics import roc_curve\n",
    "from sklearn.metrics import roc_auc_score\n",
    "from sklearn.metrics import plot_confusion_matrix\n",
    "from sklearn.metrics import precision_recall_curve\n",
    "from sklearn.utils import class_weight"
   ]
  },
  {
   "cell_type": "markdown",
   "metadata": {},
   "source": [
    "### Read dataset"
   ]
  },
  {
   "cell_type": "code",
   "execution_count": 7,
   "metadata": {},
   "outputs": [
    {
     "data": {
      "text/html": [
       "<div>\n",
       "<style scoped>\n",
       "    .dataframe tbody tr th:only-of-type {\n",
       "        vertical-align: middle;\n",
       "    }\n",
       "\n",
       "    .dataframe tbody tr th {\n",
       "        vertical-align: top;\n",
       "    }\n",
       "\n",
       "    .dataframe thead th {\n",
       "        text-align: right;\n",
       "    }\n",
       "</style>\n",
       "<table border=\"1\" class=\"dataframe\">\n",
       "  <thead>\n",
       "    <tr style=\"text-align: right;\">\n",
       "      <th></th>\n",
       "      <th>Elevation</th>\n",
       "      <th>Aspect</th>\n",
       "      <th>Slope</th>\n",
       "      <th>Horizontal_Distance_To_Hydrology</th>\n",
       "      <th>Vertical_Distance_To_Hydrology</th>\n",
       "      <th>Horizontal_Distance_To_Roadways</th>\n",
       "      <th>Hillshade_9am</th>\n",
       "      <th>Hillshade_Noon</th>\n",
       "      <th>Hillshade_3pm</th>\n",
       "      <th>Horizontal_Distance_To_Fire_Points</th>\n",
       "      <th>...</th>\n",
       "      <th>Soil_Type32</th>\n",
       "      <th>Soil_Type33</th>\n",
       "      <th>Soil_Type34</th>\n",
       "      <th>Soil_Type35</th>\n",
       "      <th>Soil_Type36</th>\n",
       "      <th>Soil_Type37</th>\n",
       "      <th>Soil_Type38</th>\n",
       "      <th>Soil_Type39</th>\n",
       "      <th>Soil_Type40</th>\n",
       "      <th>Cover_Type</th>\n",
       "    </tr>\n",
       "  </thead>\n",
       "  <tbody>\n",
       "    <tr>\n",
       "      <th>0</th>\n",
       "      <td>2596</td>\n",
       "      <td>51</td>\n",
       "      <td>3</td>\n",
       "      <td>258</td>\n",
       "      <td>0</td>\n",
       "      <td>510</td>\n",
       "      <td>221</td>\n",
       "      <td>232</td>\n",
       "      <td>148</td>\n",
       "      <td>6279</td>\n",
       "      <td>...</td>\n",
       "      <td>0</td>\n",
       "      <td>0</td>\n",
       "      <td>0</td>\n",
       "      <td>0</td>\n",
       "      <td>0</td>\n",
       "      <td>0</td>\n",
       "      <td>0</td>\n",
       "      <td>0</td>\n",
       "      <td>0</td>\n",
       "      <td>5</td>\n",
       "    </tr>\n",
       "    <tr>\n",
       "      <th>1</th>\n",
       "      <td>2590</td>\n",
       "      <td>56</td>\n",
       "      <td>2</td>\n",
       "      <td>212</td>\n",
       "      <td>-6</td>\n",
       "      <td>390</td>\n",
       "      <td>220</td>\n",
       "      <td>235</td>\n",
       "      <td>151</td>\n",
       "      <td>6225</td>\n",
       "      <td>...</td>\n",
       "      <td>0</td>\n",
       "      <td>0</td>\n",
       "      <td>0</td>\n",
       "      <td>0</td>\n",
       "      <td>0</td>\n",
       "      <td>0</td>\n",
       "      <td>0</td>\n",
       "      <td>0</td>\n",
       "      <td>0</td>\n",
       "      <td>5</td>\n",
       "    </tr>\n",
       "    <tr>\n",
       "      <th>2</th>\n",
       "      <td>2804</td>\n",
       "      <td>139</td>\n",
       "      <td>9</td>\n",
       "      <td>268</td>\n",
       "      <td>65</td>\n",
       "      <td>3180</td>\n",
       "      <td>234</td>\n",
       "      <td>238</td>\n",
       "      <td>135</td>\n",
       "      <td>6121</td>\n",
       "      <td>...</td>\n",
       "      <td>0</td>\n",
       "      <td>0</td>\n",
       "      <td>0</td>\n",
       "      <td>0</td>\n",
       "      <td>0</td>\n",
       "      <td>0</td>\n",
       "      <td>0</td>\n",
       "      <td>0</td>\n",
       "      <td>0</td>\n",
       "      <td>2</td>\n",
       "    </tr>\n",
       "    <tr>\n",
       "      <th>3</th>\n",
       "      <td>2785</td>\n",
       "      <td>155</td>\n",
       "      <td>18</td>\n",
       "      <td>242</td>\n",
       "      <td>118</td>\n",
       "      <td>3090</td>\n",
       "      <td>238</td>\n",
       "      <td>238</td>\n",
       "      <td>122</td>\n",
       "      <td>6211</td>\n",
       "      <td>...</td>\n",
       "      <td>0</td>\n",
       "      <td>0</td>\n",
       "      <td>0</td>\n",
       "      <td>0</td>\n",
       "      <td>0</td>\n",
       "      <td>0</td>\n",
       "      <td>0</td>\n",
       "      <td>0</td>\n",
       "      <td>0</td>\n",
       "      <td>2</td>\n",
       "    </tr>\n",
       "    <tr>\n",
       "      <th>4</th>\n",
       "      <td>2595</td>\n",
       "      <td>45</td>\n",
       "      <td>2</td>\n",
       "      <td>153</td>\n",
       "      <td>-1</td>\n",
       "      <td>391</td>\n",
       "      <td>220</td>\n",
       "      <td>234</td>\n",
       "      <td>150</td>\n",
       "      <td>6172</td>\n",
       "      <td>...</td>\n",
       "      <td>0</td>\n",
       "      <td>0</td>\n",
       "      <td>0</td>\n",
       "      <td>0</td>\n",
       "      <td>0</td>\n",
       "      <td>0</td>\n",
       "      <td>0</td>\n",
       "      <td>0</td>\n",
       "      <td>0</td>\n",
       "      <td>5</td>\n",
       "    </tr>\n",
       "  </tbody>\n",
       "</table>\n",
       "<p>5 rows × 55 columns</p>\n",
       "</div>"
      ],
      "text/plain": [
       "   Elevation  Aspect  Slope  Horizontal_Distance_To_Hydrology  \\\n",
       "0       2596      51      3                               258   \n",
       "1       2590      56      2                               212   \n",
       "2       2804     139      9                               268   \n",
       "3       2785     155     18                               242   \n",
       "4       2595      45      2                               153   \n",
       "\n",
       "   Vertical_Distance_To_Hydrology  Horizontal_Distance_To_Roadways  \\\n",
       "0                               0                              510   \n",
       "1                              -6                              390   \n",
       "2                              65                             3180   \n",
       "3                             118                             3090   \n",
       "4                              -1                              391   \n",
       "\n",
       "   Hillshade_9am  Hillshade_Noon  Hillshade_3pm  \\\n",
       "0            221             232            148   \n",
       "1            220             235            151   \n",
       "2            234             238            135   \n",
       "3            238             238            122   \n",
       "4            220             234            150   \n",
       "\n",
       "   Horizontal_Distance_To_Fire_Points  ...  Soil_Type32  Soil_Type33  \\\n",
       "0                                6279  ...            0            0   \n",
       "1                                6225  ...            0            0   \n",
       "2                                6121  ...            0            0   \n",
       "3                                6211  ...            0            0   \n",
       "4                                6172  ...            0            0   \n",
       "\n",
       "   Soil_Type34  Soil_Type35  Soil_Type36  Soil_Type37  Soil_Type38  \\\n",
       "0            0            0            0            0            0   \n",
       "1            0            0            0            0            0   \n",
       "2            0            0            0            0            0   \n",
       "3            0            0            0            0            0   \n",
       "4            0            0            0            0            0   \n",
       "\n",
       "   Soil_Type39  Soil_Type40  Cover_Type  \n",
       "0            0            0           5  \n",
       "1            0            0           5  \n",
       "2            0            0           2  \n",
       "3            0            0           2  \n",
       "4            0            0           5  \n",
       "\n",
       "[5 rows x 55 columns]"
      ]
     },
     "execution_count": 7,
     "metadata": {},
     "output_type": "execute_result"
    }
   ],
   "source": [
    "df = pd.read_csv('covtype.csv')\n",
    "df.head()"
   ]
  },
  {
   "cell_type": "markdown",
   "metadata": {},
   "source": [
    "### Split data an preprocessing"
   ]
  },
  {
   "cell_type": "code",
   "execution_count": 8,
   "metadata": {
    "scrolled": true
   },
   "outputs": [
    {
     "data": {
      "text/plain": [
       "Index(['Elevation', 'Aspect', 'Slope', 'Horizontal_Distance_To_Hydrology',\n",
       "       'Vertical_Distance_To_Hydrology', 'Horizontal_Distance_To_Roadways',\n",
       "       'Hillshade_9am', 'Hillshade_Noon', 'Hillshade_3pm',\n",
       "       'Horizontal_Distance_To_Fire_Points', 'Wilderness_Area1',\n",
       "       'Wilderness_Area2', 'Wilderness_Area3', 'Wilderness_Area4',\n",
       "       'Soil_Type1', 'Soil_Type2', 'Soil_Type3', 'Soil_Type4', 'Soil_Type5',\n",
       "       'Soil_Type6', 'Soil_Type7', 'Soil_Type8', 'Soil_Type9', 'Soil_Type10',\n",
       "       'Soil_Type11', 'Soil_Type12', 'Soil_Type13', 'Soil_Type14',\n",
       "       'Soil_Type15', 'Soil_Type16', 'Soil_Type17', 'Soil_Type18',\n",
       "       'Soil_Type19', 'Soil_Type20', 'Soil_Type21', 'Soil_Type22',\n",
       "       'Soil_Type23', 'Soil_Type24', 'Soil_Type25', 'Soil_Type26',\n",
       "       'Soil_Type27', 'Soil_Type28', 'Soil_Type29', 'Soil_Type30',\n",
       "       'Soil_Type31', 'Soil_Type32', 'Soil_Type33', 'Soil_Type34',\n",
       "       'Soil_Type35', 'Soil_Type36', 'Soil_Type37', 'Soil_Type38',\n",
       "       'Soil_Type39', 'Soil_Type40', 'Cover_Type'],\n",
       "      dtype='object')"
      ]
     },
     "execution_count": 8,
     "metadata": {},
     "output_type": "execute_result"
    }
   ],
   "source": [
    "df.columns"
   ]
  },
  {
   "cell_type": "code",
   "execution_count": 17,
   "metadata": {},
   "outputs": [
    {
     "name": "stdout",
     "output_type": "stream",
     "text": [
      "211840 283301 35754 2747 9493 17367 20510\n"
     ]
    }
   ],
   "source": [
    "class_1_df = df[df['Cover_Type']==1]\n",
    "class_2_df = df[df['Cover_Type']==2]\n",
    "class_3_df = df[df['Cover_Type']==3]\n",
    "class_4_df = df[df['Cover_Type']==4]\n",
    "class_5_df = df[df['Cover_Type']==5]\n",
    "class_6_df = df[df['Cover_Type']==6]\n",
    "class_7_df = df[df['Cover_Type']==7]\n",
    "print(len(class_1_df),len(class_2_df),len(class_3_df),len(class_4_df),len(class_5_df),len(class_6_df),len(class_7_df))"
   ]
  },
  {
   "cell_type": "code",
   "execution_count": 18,
   "metadata": {},
   "outputs": [
    {
     "data": {
      "text/plain": [
       "549.4"
      ]
     },
     "execution_count": 18,
     "metadata": {},
     "output_type": "execute_result"
    }
   ],
   "source": [
    "2747*0.2"
   ]
  },
  {
   "cell_type": "code",
   "execution_count": 29,
   "metadata": {},
   "outputs": [
    {
     "name": "stdout",
     "output_type": "stream",
     "text": [
      "3500\n"
     ]
    }
   ],
   "source": [
    "test_class_1_df = df[df['Cover_Type']==1].sample(500)\n",
    "test_class_2_df = df[df['Cover_Type']==2].sample(500)\n",
    "test_class_3_df = df[df['Cover_Type']==3].sample(500)\n",
    "test_class_4_df = df[df['Cover_Type']==4].sample(500)\n",
    "test_class_5_df = df[df['Cover_Type']==5].sample(500)\n",
    "test_class_6_df = df[df['Cover_Type']==6].sample(500)\n",
    "test_class_7_df = df[df['Cover_Type']==7].sample(500)\n",
    "test_df = pd.concat([test_class_1_df,\n",
    "                     test_class_2_df,\n",
    "                     test_class_3_df,\n",
    "                     test_class_4_df,\n",
    "                     test_class_5_df,\n",
    "                     test_class_6_df,\n",
    "                     test_class_7_df])\n",
    "print(len(test_df))"
   ]
  },
  {
   "cell_type": "code",
   "execution_count": 28,
   "metadata": {},
   "outputs": [
    {
     "name": "stdout",
     "output_type": "stream",
     "text": [
      "577512\n"
     ]
    }
   ],
   "source": [
    "train_class_1_df = class_1_df.drop(test_class_1_df.index)\n",
    "train_class_2_df = class_2_df.drop(test_class_2_df.index)\n",
    "train_class_3_df = class_3_df.drop(test_class_3_df.index)\n",
    "train_class_4_df = class_4_df.drop(test_class_4_df.index)\n",
    "train_class_5_df = class_5_df.drop(test_class_5_df.index)\n",
    "train_class_6_df = class_6_df.drop(test_class_6_df.index)\n",
    "train_class_7_df = class_7_df.drop(test_class_7_df.index)\n",
    "train_df = pd.concat([train_class_1_df,\n",
    "                     train_class_2_df,\n",
    "                     train_class_3_df,\n",
    "                     train_class_4_df,\n",
    "                     train_class_5_df,\n",
    "                     train_class_6_df,\n",
    "                     train_class_7_df])\n",
    "print(len(train_df))"
   ]
  },
  {
   "cell_type": "code",
   "execution_count": 30,
   "metadata": {},
   "outputs": [],
   "source": [
    "data = pd.concat([train_df,test_df])"
   ]
  },
  {
   "cell_type": "code",
   "execution_count": 31,
   "metadata": {},
   "outputs": [],
   "source": [
    "preprocessor = ColumnTransformer(\n",
    "    transformers=[\n",
    "        ('num', StandardScaler(),['Elevation', 'Slope', 'Horizontal_Distance_To_Hydrology',\n",
    "       'Vertical_Distance_To_Hydrology', 'Horizontal_Distance_To_Roadways',\n",
    "       'Hillshade_9am', 'Hillshade_Noon',\n",
    "       'Horizontal_Distance_To_Fire_Points','Wilderness_Area1',\n",
    "       'Wilderness_Area2', 'Wilderness_Area3', 'Wilderness_Area4',\n",
    "       'Soil_Type1', 'Soil_Type2', 'Soil_Type3', 'Soil_Type4', 'Soil_Type5',\n",
    "       'Soil_Type6', 'Soil_Type7', 'Soil_Type8', 'Soil_Type9', 'Soil_Type10',\n",
    "       'Soil_Type11', 'Soil_Type12', 'Soil_Type13', 'Soil_Type14',\n",
    "       'Soil_Type15', 'Soil_Type16', 'Soil_Type17', 'Soil_Type18',\n",
    "       'Soil_Type19', 'Soil_Type20', 'Soil_Type21', 'Soil_Type22',\n",
    "       'Soil_Type23', 'Soil_Type24', 'Soil_Type25', 'Soil_Type26',\n",
    "       'Soil_Type27', 'Soil_Type28', 'Soil_Type29', 'Soil_Type30',\n",
    "       'Soil_Type31', 'Soil_Type32', 'Soil_Type33', 'Soil_Type34',\n",
    "       'Soil_Type35', 'Soil_Type36', 'Soil_Type37', 'Soil_Type38',\n",
    "       'Soil_Type39', 'Soil_Type40'])\n",
    "    ]\n",
    ")\n",
    "\n",
    "data_preprocessed = preprocessor.fit_transform(data)\n",
    "labels = np.array(data['Cover_Type'])"
   ]
  },
  {
   "cell_type": "code",
   "execution_count": 32,
   "metadata": {},
   "outputs": [
    {
     "data": {
      "text/plain": [
       "array([-9.30092228e-01, -1.48277671e+00, -1.26754849e+00, -7.96325165e-01,\n",
       "       -1.63107730e-01,  3.19623221e-02,  5.40359169e-01,  3.67963773e+00,\n",
       "        1.10805671e+00, -2.32834408e-01, -8.79502509e-01, -2.60503473e-01,\n",
       "       -7.24402892e-02, -1.14687763e-01, -9.12990534e-02, -1.47521407e-01,\n",
       "       -5.23512444e-02, -1.06788264e-01, -1.34443975e-02, -1.75058816e-02,\n",
       "       -4.44752360e-02, -2.44006205e-01, -1.47819550e-01, -2.33216171e-01,\n",
       "       -1.75751995e-01, -3.20982720e-02, -2.27231846e-03, -7.00982966e-02,\n",
       "       -7.72651355e-02, -5.72336256e-02, -8.35427089e-02,  7.85301411e+00,\n",
       "       -3.79597426e-02, -2.46848066e-01, -3.32260730e-01, -1.94939745e-01,\n",
       "       -2.85440025e-02, -6.70193444e-02, -4.32541921e-02, -4.03837703e-02,\n",
       "       -4.97475096e-01, -2.33965938e-01, -2.15036564e-01, -3.15145637e-01,\n",
       "       -2.90322440e-01, -5.28284220e-02, -5.72638872e-02, -1.42525495e-02,\n",
       "       -2.26150058e-02, -1.65967066e-01, -1.55903981e-01, -1.23732435e-01])"
      ]
     },
     "execution_count": 32,
     "metadata": {},
     "output_type": "execute_result"
    }
   ],
   "source": [
    "data_preprocessed[0]"
   ]
  },
  {
   "cell_type": "code",
   "execution_count": 33,
   "metadata": {},
   "outputs": [
    {
     "data": {
      "text/plain": [
       "(581012, 52)"
      ]
     },
     "execution_count": 33,
     "metadata": {},
     "output_type": "execute_result"
    }
   ],
   "source": [
    "data_preprocessed.shape"
   ]
  },
  {
   "cell_type": "code",
   "execution_count": 35,
   "metadata": {},
   "outputs": [],
   "source": [
    "X_train = data_preprocessed[:577512,:]\n",
    "y_train = labels[:577512]\n",
    "X_test = data_preprocessed[577512:,:]\n",
    "y_test = labels[577512:]"
   ]
  },
  {
   "cell_type": "code",
   "execution_count": 37,
   "metadata": {},
   "outputs": [
    {
     "name": "stdout",
     "output_type": "stream",
     "text": [
      "(577512, 52)\n",
      "(577512,)\n",
      "(3500, 52)\n",
      "(3500,)\n"
     ]
    }
   ],
   "source": [
    "print(X_train.shape)\n",
    "print(y_train.shape)\n",
    "print(X_test.shape)\n",
    "print(y_test.shape)"
   ]
  },
  {
   "cell_type": "markdown",
   "metadata": {},
   "source": [
    "### Train model"
   ]
  },
  {
   "cell_type": "code",
   "execution_count": 67,
   "metadata": {},
   "outputs": [],
   "source": [
    "params = {\n",
    "    \"model_name\": \"xgboost\",\n",
    "    \"early_stopping_rounds\": 100,\n",
    "    \"eval_metric\": [\"merror\", \"mlogloss\"],\n",
    "    \"hyperparams\": {\n",
    "        \"verbosity\": 0, \n",
    "        \"silent\": 0, \n",
    "        \"objective\": \"multi:softmax\", \n",
    "        \"n_jobs\": 1, \n",
    "        \"gamma\": 10,              \n",
    "        \"max_delta_step\": 0, \n",
    "        \"subsample\": 0.8,           \n",
    "        \"colsample_bytree\": 0.8,         \n",
    "        \"colsample_bylevel\": 1,  \n",
    "        \"colsample_bynode\": 0.8,         \n",
    "        \"n_estimators\": 200,           \n",
    "        \"reg_lambda\": 1, \n",
    "        \"random_state\": 0, \n",
    "        \"seed\": 0, \n",
    "        \"missing\": None, \n",
    "        \"reg_alpha\":  0,            \n",
    "        \"base_score\": 0.5,              \n",
    "        \"max_depth\": 5,           \n",
    "        \"min_child_weight\": 1,          \n",
    "        \"booster\": \"gbtree\" ,\n",
    "        \"learning_rate\": 0.3,  \n",
    "        \"tree_method\": \"gpu_hist\",\n",
    "        \"num_parallel_tree\": 6,\n",
    "        \"gpu_id\": 0\n",
    "    }\n",
    "}"
   ]
  },
  {
   "cell_type": "code",
   "execution_count": 68,
   "metadata": {},
   "outputs": [
    {
     "data": {
      "text/plain": [
       "XGBClassifier(base_score=0.5, booster='gbtree', colsample_bylevel=1,\n",
       "              colsample_bynode=0.8, colsample_bytree=0.8, gamma=10, gpu_id=0,\n",
       "              importance_type='gain', interaction_constraints=None,\n",
       "              learning_rate=0.3, max_delta_step=0, max_depth=5,\n",
       "              min_child_weight=1, missing=None, monotone_constraints=None,\n",
       "              n_estimators=200, n_jobs=1, num_parallel_tree=6,\n",
       "              objective='multi:softmax', random_state=0, reg_alpha=0,\n",
       "              reg_lambda=1, scale_pos_weight=None, seed=0, silent=0,\n",
       "              subsample=0.8, tree_method='gpu_hist', validate_parameters=None,\n",
       "              verbosity=0)"
      ]
     },
     "execution_count": 68,
     "metadata": {},
     "output_type": "execute_result"
    }
   ],
   "source": [
    "model = XGBClassifier()\n",
    "model.set_params(**params['hyperparams'])"
   ]
  },
  {
   "cell_type": "code",
   "execution_count": 72,
   "metadata": {},
   "outputs": [
    {
     "name": "stdout",
     "output_type": "stream",
     "text": [
      "(404258, 52) (173254, 52)\n"
     ]
    },
    {
     "name": "stderr",
     "output_type": "stream",
     "text": [
      "C:\\Users\\Lenovo\\anaconda3\\lib\\site-packages\\sklearn\\utils\\validation.py:67: FutureWarning: Pass classes=[1 2 3 4 5 6 7], y=[1 1 3 ... 1 1 2] as keyword args. From version 0.25 passing these as positional arguments will result in an error\n",
      "  warnings.warn(\"Pass {} as keyword args. From version 0.25 \"\n",
      "C:\\Users\\Lenovo\\anaconda3\\lib\\site-packages\\xgboost\\sklearn.py:892: UserWarning: The use of label encoder in XGBClassifier is deprecated and will be removed in a future release. To remove this warning, do the following: 1) Pass option use_label_encoder=False when constructing XGBClassifier object; and 2) Encode your labels (y) as integers starting with 0, i.e. 0, 1, 2, ..., [num_class - 1].\n",
      "  warnings.warn(label_encoder_deprecation_msg, UserWarning)\n"
     ]
    },
    {
     "name": "stdout",
     "output_type": "stream",
     "text": [
      "train_accuracy for iteration  1 :  0.7412246634574949\n",
      "(404258, 52) (52,)\n",
      "val_accuracy for iteration  1 :  0.7377261131056138\n",
      "(404258, 52) (173254, 52)\n"
     ]
    },
    {
     "name": "stderr",
     "output_type": "stream",
     "text": [
      "C:\\Users\\Lenovo\\anaconda3\\lib\\site-packages\\sklearn\\utils\\validation.py:67: FutureWarning: Pass classes=[1 2 3 4 5 6 7], y=[1 2 2 ... 2 2 1] as keyword args. From version 0.25 passing these as positional arguments will result in an error\n",
      "  warnings.warn(\"Pass {} as keyword args. From version 0.25 \"\n"
     ]
    },
    {
     "name": "stdout",
     "output_type": "stream",
     "text": [
      "train_accuracy for iteration  2 :  0.7411801374369833\n",
      "(404258, 52) (52,)\n",
      "val_accuracy for iteration  2 :  0.7391402218707793\n",
      "(404258, 52) (173254, 52)\n"
     ]
    },
    {
     "name": "stderr",
     "output_type": "stream",
     "text": [
      "C:\\Users\\Lenovo\\anaconda3\\lib\\site-packages\\sklearn\\utils\\validation.py:67: FutureWarning: Pass classes=[1 2 3 4 5 6 7], y=[7 1 1 ... 2 2 1] as keyword args. From version 0.25 passing these as positional arguments will result in an error\n",
      "  warnings.warn(\"Pass {} as keyword args. From version 0.25 \"\n"
     ]
    },
    {
     "name": "stdout",
     "output_type": "stream",
     "text": [
      "train_accuracy for iteration  3 :  0.7388375740245091\n",
      "(404258, 52) (52,)\n",
      "val_accuracy for iteration  3 :  0.7378530943008531\n",
      "(404258, 52) (173254, 52)\n"
     ]
    },
    {
     "name": "stderr",
     "output_type": "stream",
     "text": [
      "C:\\Users\\Lenovo\\anaconda3\\lib\\site-packages\\sklearn\\utils\\validation.py:67: FutureWarning: Pass classes=[1 2 3 4 5 6 7], y=[2 7 1 ... 1 2 1] as keyword args. From version 0.25 passing these as positional arguments will result in an error\n",
      "  warnings.warn(\"Pass {} as keyword args. From version 0.25 \"\n"
     ]
    },
    {
     "name": "stdout",
     "output_type": "stream",
     "text": [
      "train_accuracy for iteration  4 :  0.7409426653275878\n",
      "(404258, 52) (52,)\n",
      "val_accuracy for iteration  4 :  0.7399136527872372\n",
      "(404258, 52) (173254, 52)\n"
     ]
    },
    {
     "name": "stderr",
     "output_type": "stream",
     "text": [
      "C:\\Users\\Lenovo\\anaconda3\\lib\\site-packages\\sklearn\\utils\\validation.py:67: FutureWarning: Pass classes=[1 2 3 4 5 6 7], y=[1 3 1 ... 1 1 1] as keyword args. From version 0.25 passing these as positional arguments will result in an error\n",
      "  warnings.warn(\"Pass {} as keyword args. From version 0.25 \"\n"
     ]
    },
    {
     "name": "stdout",
     "output_type": "stream",
     "text": [
      "train_accuracy for iteration  5 :  0.7394015702843234\n",
      "(404258, 52) (52,)\n",
      "val_accuracy for iteration  5 :  0.7357579045794036\n",
      "(404258, 52) (173254, 52)\n"
     ]
    },
    {
     "name": "stderr",
     "output_type": "stream",
     "text": [
      "C:\\Users\\Lenovo\\anaconda3\\lib\\site-packages\\sklearn\\utils\\validation.py:67: FutureWarning: Pass classes=[1 2 3 4 5 6 7], y=[2 2 2 ... 1 1 2] as keyword args. From version 0.25 passing these as positional arguments will result in an error\n",
      "  warnings.warn(\"Pass {} as keyword args. From version 0.25 \"\n"
     ]
    },
    {
     "name": "stdout",
     "output_type": "stream",
     "text": [
      "train_accuracy for iteration  6 :  0.7408387712797273\n",
      "(404258, 52) (52,)\n",
      "val_accuracy for iteration  6 :  0.7380551098387339\n",
      "(404258, 52) (173254, 52)\n"
     ]
    },
    {
     "name": "stderr",
     "output_type": "stream",
     "text": [
      "C:\\Users\\Lenovo\\anaconda3\\lib\\site-packages\\sklearn\\utils\\validation.py:67: FutureWarning: Pass classes=[1 2 3 4 5 6 7], y=[2 2 2 ... 2 1 2] as keyword args. From version 0.25 passing these as positional arguments will result in an error\n",
      "  warnings.warn(\"Pass {} as keyword args. From version 0.25 \"\n"
     ]
    },
    {
     "name": "stdout",
     "output_type": "stream",
     "text": [
      "train_accuracy for iteration  7 :  0.7417367126933789\n",
      "(404258, 52) (52,)\n",
      "val_accuracy for iteration  7 :  0.7370508040218408\n",
      "(404258, 52) (173254, 52)\n"
     ]
    },
    {
     "name": "stderr",
     "output_type": "stream",
     "text": [
      "C:\\Users\\Lenovo\\anaconda3\\lib\\site-packages\\sklearn\\utils\\validation.py:67: FutureWarning: Pass classes=[1 2 3 4 5 6 7], y=[2 2 1 ... 2 2 1] as keyword args. From version 0.25 passing these as positional arguments will result in an error\n",
      "  warnings.warn(\"Pass {} as keyword args. From version 0.25 \"\n"
     ]
    },
    {
     "name": "stdout",
     "output_type": "stream",
     "text": [
      "train_accuracy for iteration  8 :  0.7439011720238066\n",
      "(404258, 52) (52,)\n",
      "val_accuracy for iteration  8 :  0.7415701801978598\n",
      "(404258, 52) (173254, 52)\n"
     ]
    },
    {
     "name": "stderr",
     "output_type": "stream",
     "text": [
      "C:\\Users\\Lenovo\\anaconda3\\lib\\site-packages\\sklearn\\utils\\validation.py:67: FutureWarning: Pass classes=[1 2 3 4 5 6 7], y=[1 1 1 ... 3 1 1] as keyword args. From version 0.25 passing these as positional arguments will result in an error\n",
      "  warnings.warn(\"Pass {} as keyword args. From version 0.25 \"\n"
     ]
    },
    {
     "name": "stdout",
     "output_type": "stream",
     "text": [
      "train_accuracy for iteration  9 :  0.7388623107025711\n",
      "(404258, 52) (52,)\n",
      "val_accuracy for iteration  9 :  0.734632389439782\n",
      "(404258, 52) (173254, 52)\n"
     ]
    },
    {
     "name": "stderr",
     "output_type": "stream",
     "text": [
      "C:\\Users\\Lenovo\\anaconda3\\lib\\site-packages\\sklearn\\utils\\validation.py:67: FutureWarning: Pass classes=[1 2 3 4 5 6 7], y=[1 2 2 ... 7 1 1] as keyword args. From version 0.25 passing these as positional arguments will result in an error\n",
      "  warnings.warn(\"Pass {} as keyword args. From version 0.25 \"\n"
     ]
    },
    {
     "name": "stdout",
     "output_type": "stream",
     "text": [
      "train_accuracy for iteration  10 :  0.7417218706865417\n",
      "(404258, 52) (52,)\n",
      "val_accuracy for iteration  10 :  0.7380897410737992\n",
      "Train accuracy:  0.7394753882815543\n",
      "Validation accuracy:  0.7401601796538813\n"
     ]
    }
   ],
   "source": [
    "splits = 10\n",
    "cv = StratifiedShuffleSplit(n_splits=splits, test_size=0.3, random_state=42)\n",
    "accuracy = np.zeros((splits,2))\n",
    "\n",
    "count = 0\n",
    "for train, val in cv.split(X_train, y_train):\n",
    "    train_features = X_train[train]\n",
    "    train_labels = y_train[train]\n",
    "    validation_features = X_train[val]\n",
    "    validation_labels = y_train[val]\n",
    "    eval_set = [(X_train[train], y_train[train]),(X_train[val], y_train[val])]\n",
    "    \n",
    "    class_weights = list(class_weight.compute_class_weight('balanced',\n",
    "                                             np.unique(y_train[train]),\n",
    "                                             y_train[train]))\n",
    "    w_array = np.ones(y_train[train].shape[0], dtype = 'float')\n",
    "    for i, val in enumerate(y_train[train]):\n",
    "        w_array[i] = class_weights[val-1]\n",
    "    \n",
    "    model = model.fit(X_train[train], y_train[train], early_stopping_rounds=params['early_stopping_rounds'], \n",
    "                  eval_metric=params['eval_metric'], eval_set=eval_set, sample_weight=w_array, verbose=False)\n",
    "    \n",
    "    train_model_prediction = model.predict(train_features)\n",
    "    train_predictions = [round(value) for value in train_model_prediction]\n",
    "    train_accuracy = accuracy_score(train_labels, train_predictions)\n",
    "    print('train_accuracy for iteration ', count+1, ': ', train_accuracy)\n",
    "    \n",
    "    val_model_prediction = model.predict(validation_features)\n",
    "    val_predictions = [round(value) for value in val_model_prediction]\n",
    "    val_accuracy = accuracy_score(validation_labels, val_predictions)\n",
    "    print('val_accuracy for iteration ', count+1, ': ', val_accuracy)\n",
    "\n",
    "    accuracy[count] = [train_accuracy, val_accuracy]\n",
    "    count += 1\n",
    "\n",
    "print('Train accuracy: ', np.mean(accuracy[0,:]))\n",
    "print('Validation accuracy: ', np.mean(accuracy[1,:]))"
   ]
  },
  {
   "cell_type": "code",
   "execution_count": 73,
   "metadata": {},
   "outputs": [
    {
     "name": "stdout",
     "output_type": "stream",
     "text": [
      "              precision    recall  f1-score   support\n",
      "\n",
      "           1       0.75      0.77      0.76    211340\n",
      "           2       0.85      0.67      0.75    282801\n",
      "           3       0.80      0.86      0.83     35254\n",
      "           4       0.73      0.99      0.84      2247\n",
      "           5       0.24      0.97      0.38      8993\n",
      "           6       0.55      0.92      0.69     16867\n",
      "           7       0.57      0.98      0.72     20010\n",
      "\n",
      "    accuracy                           0.74    577512\n",
      "   macro avg       0.64      0.88      0.71    577512\n",
      "weighted avg       0.78      0.74      0.75    577512\n",
      "\n",
      "Accuracy:  0.7406322292870104\n"
     ]
    },
    {
     "data": {
      "image/png": "[encoded data removed]",
      "text/plain": [
       "<Figure size 432x288 with 2 Axes>"
      ]
     },
     "metadata": {
      "needs_background": "light"
     },
     "output_type": "display_data"
    }
   ],
   "source": [
    "# evaluacija na trening setu\n",
    "train_model_prediction = model.predict(X_train)\n",
    "train_predictions = [round(value) for value in train_model_prediction]\n",
    "\n",
    "accuracy = accuracy_score(y_train, train_predictions)\n",
    "report = classification_report(y_train, train_predictions)\n",
    "print(report)\n",
    "print('Accuracy: ', accuracy)\n",
    "\n",
    "fig, ax = plt.subplots()\n",
    "plt.title('xgboost')\n",
    "plot_confusion_matrix(model, X_train, y_train, ax=ax)\n",
    "plt.show()"
   ]
  },
  {
   "cell_type": "code",
   "execution_count": 75,
   "metadata": {},
   "outputs": [
    {
     "name": "stdout",
     "output_type": "stream",
     "text": [
      "              precision    recall  f1-score   support\n",
      "\n",
      "           1       0.78      0.76      0.77       500\n",
      "           2       0.79      0.67      0.72       500\n",
      "           3       0.89      0.83      0.86       500\n",
      "           4       0.97      0.99      0.98       500\n",
      "           5       0.89      0.97      0.93       500\n",
      "           6       0.85      0.94      0.89       500\n",
      "           7       0.94      0.97      0.95       500\n",
      "\n",
      "    accuracy                           0.88      3500\n",
      "   macro avg       0.87      0.88      0.87      3500\n",
      "weighted avg       0.87      0.88      0.87      3500\n",
      "\n",
      "Accuracy:  0.8757142857142857\n"
     ]
    },
    {
     "data": {
      "image/png": "[encoded data removed]",
      "text/plain": [
       "<Figure size 432x288 with 2 Axes>"
      ]
     },
     "metadata": {
      "needs_background": "light"
     },
     "output_type": "display_data"
    }
   ],
   "source": [
    "# evaluacija na test setu\n",
    "test_model_prediction = model.predict(X_test)\n",
    "test_predictions = [round(value) for value in test_model_prediction]\n",
    "\n",
    "accuracy = accuracy_score(y_test, test_predictions)\n",
    "report = classification_report(y_test, test_predictions)\n",
    "print(report)\n",
    "print('Accuracy: ', accuracy)\n",
    "\n",
    "fig, ax = plt.subplots()\n",
    "plt.title('xgboost')\n",
    "plot_confusion_matrix(model, X_test, y_test, ax=ax)\n",
    "plt.show()"
   ]
  },
  {
   "cell_type": "code",
   "execution_count": null,
   "metadata": {},
   "outputs": [],
   "source": []
  },
  {
   "cell_type": "code",
   "execution_count": null,
   "metadata": {},
   "outputs": [],
   "source": []
  }
 ],
 "metadata": {
  "kernelspec": {
   "display_name": "Python 3",
   "language": "python",
   "name": "python3"
  },
  "language_info": {
   "codemirror_mode": {
    "name": "ipython",
    "version": 3
   },
   "file_extension": ".py",
   "mimetype": "text/x-python",
   "name": "python",
   "nbconvert_exporter": "python",
   "pygments_lexer": "ipython3",
   "version": "3.8.5"
  }
 },
 "nbformat": 4,
 "nbformat_minor": 4
}
